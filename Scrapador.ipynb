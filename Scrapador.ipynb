{
 "cells": [
  {
   "cell_type": "code",
   "execution_count": 5,
   "metadata": {},
   "outputs": [
    {
     "name": "stdout",
     "output_type": "stream",
     "text": [
      "Requirement already satisfied: bs4 in /Library/Frameworks/Python.framework/Versions/3.7/lib/python3.7/site-packages (0.0.1)\n",
      "Requirement already satisfied: beautifulsoup4 in /Library/Frameworks/Python.framework/Versions/3.7/lib/python3.7/site-packages (from bs4) (4.9.3)\n",
      "Requirement already satisfied: soupsieve>1.2 in /Library/Frameworks/Python.framework/Versions/3.7/lib/python3.7/site-packages (from beautifulsoup4->bs4) (2.0.1)\n",
      "Requirement already satisfied: requests in /Library/Frameworks/Python.framework/Versions/3.7/lib/python3.7/site-packages (2.25.0)\n",
      "Requirement already satisfied: chardet<4,>=3.0.2 in /Library/Frameworks/Python.framework/Versions/3.7/lib/python3.7/site-packages (from requests) (3.0.4)\n",
      "Requirement already satisfied: urllib3<1.27,>=1.21.1 in /Library/Frameworks/Python.framework/Versions/3.7/lib/python3.7/site-packages (from requests) (1.26.2)\n",
      "Requirement already satisfied: certifi>=2017.4.17 in /Library/Frameworks/Python.framework/Versions/3.7/lib/python3.7/site-packages (from requests) (2020.11.8)\n",
      "Requirement already satisfied: idna<3,>=2.5 in /Library/Frameworks/Python.framework/Versions/3.7/lib/python3.7/site-packages (from requests) (2.10)\n",
      "Requirement already satisfied: shadow_useragent in /Library/Frameworks/Python.framework/Versions/3.7/lib/python3.7/site-packages (0.0.17)\n",
      "Requirement already satisfied: requests in /Library/Frameworks/Python.framework/Versions/3.7/lib/python3.7/site-packages (from shadow_useragent) (2.25.0)\n",
      "Requirement already satisfied: coloredlogs in /Library/Frameworks/Python.framework/Versions/3.7/lib/python3.7/site-packages (from shadow_useragent) (15.0)\n",
      "Requirement already satisfied: pytz in /Library/Frameworks/Python.framework/Versions/3.7/lib/python3.7/site-packages (from shadow_useragent) (2020.4)\n",
      "Requirement already satisfied: humanfriendly>=9.1 in /Library/Frameworks/Python.framework/Versions/3.7/lib/python3.7/site-packages (from coloredlogs->shadow_useragent) (9.1)\n",
      "Requirement already satisfied: idna<3,>=2.5 in /Library/Frameworks/Python.framework/Versions/3.7/lib/python3.7/site-packages (from requests->shadow_useragent) (2.10)\n",
      "Requirement already satisfied: certifi>=2017.4.17 in /Library/Frameworks/Python.framework/Versions/3.7/lib/python3.7/site-packages (from requests->shadow_useragent) (2020.11.8)\n",
      "Requirement already satisfied: urllib3<1.27,>=1.21.1 in /Library/Frameworks/Python.framework/Versions/3.7/lib/python3.7/site-packages (from requests->shadow_useragent) (1.26.2)\n",
      "Requirement already satisfied: chardet<4,>=3.0.2 in /Library/Frameworks/Python.framework/Versions/3.7/lib/python3.7/site-packages (from requests->shadow_useragent) (3.0.4)\n"
     ]
    }
   ],
   "source": [
    "import sys\n",
    "!{sys.executable} -m pip install bs4\n",
    "!{sys.executable} -m pip install requests\n",
    "!{sys.executable} -m pip install shadow_useragent"
   ]
  },
  {
   "cell_type": "code",
   "execution_count": 6,
   "metadata": {},
   "outputs": [],
   "source": [
    "from ipywidgets import interact\n",
    "import bs4 as bs4\n",
    "import requests as requests\n",
    "import time\n",
    "import shadow_useragent"
   ]
  },
  {
   "cell_type": "code",
   "execution_count": 9,
   "metadata": {},
   "outputs": [],
   "source": [
    "def Scraping(URL,Lancer_Programme):\n",
    "\n",
    "    \n",
    "    if Lancer_Programme == True:\n",
    "        if URL.startswith('https://genius.com/'):\n",
    "            \n",
    "            ua = shadow_useragent.ShadowUserAgent()\n",
    "            my_user_agent = ua.percent(0.05)\n",
    "            \n",
    "            headers = {'User-Agent': '{}'.format(my_user_agent)}\n",
    "            Page = requests.get(URL, headers)\n",
    "            print(Page)\n",
    "            if Page.ok:\n",
    "                try:\n",
    "                    print(\"Je cherche ...\")\n",
    "                    print(\"\")\n",
    "                    Soup = bs4.BeautifulSoup(Page.text, 'html.parser')\n",
    "                    Texte = Soup.find('div', {'class' : 'lyrics'}).find('p')\n",
    "                    print(Texte.text)\n",
    "                except:\n",
    "                    i = 0\n",
    "                    while i<10:\n",
    "                        time.sleep(2)\n",
    "                        print(\"Je cherche ...\")\n",
    "                        print(\"\")\n",
    "                        try:\n",
    "                            Page = requests.get(URL, headers)\n",
    "                            Soup = BeautifulSoup(Page.text, 'lxml')\n",
    "                            Texte = Soup.find('div', {'class' : 'lyrics'}).find('p')\n",
    "                            i = 20\n",
    "                            print(Texte.text)\n",
    "                        except:\n",
    "                            i += 1\n",
    "                    if i >= 20:\n",
    "                        print(\"Je n'ai pas trouvé ...\")\n",
    "            else:\n",
    "                if URL == \"Entrez l'URL\":\n",
    "                    print()\n",
    "                else:\n",
    "                    print(\"L'URL n'a pas marché\")\n",
    "\n",
    "        else:\n",
    "            print(\"Veuillez entrer un URL du site https://genius.com/ \")\n"
   ]
  },
  {
   "cell_type": "code",
   "execution_count": 10,
   "metadata": {},
   "outputs": [
    {
     "data": {
      "application/vnd.jupyter.widget-view+json": {
       "model_id": "95fd3b7f5188462ebdba96745842e746",
       "version_major": 2,
       "version_minor": 0
      },
      "text/plain": [
       "interactive(children=(Text(value=\"Entrez l'URL\", description='URL'), Checkbox(value=False, description='Lancer…"
      ]
     },
     "metadata": {},
     "output_type": "display_data"
    }
   ],
   "source": [
    "interact(Scraping,URL = \"Entrez l'URL\", Lancer_Programme = False);"
   ]
  },
  {
   "cell_type": "code",
   "execution_count": null,
   "metadata": {},
   "outputs": [],
   "source": []
  }
 ],
 "metadata": {
  "kernelspec": {
   "display_name": "Python 3",
   "language": "python",
   "name": "python3"
  },
  "language_info": {
   "codemirror_mode": {
    "name": "ipython",
    "version": 3
   },
   "file_extension": ".py",
   "mimetype": "text/x-python",
   "name": "python",
   "nbconvert_exporter": "python",
   "pygments_lexer": "ipython3",
   "version": "3.7.9"
  }
 },
 "nbformat": 4,
 "nbformat_minor": 2
}
