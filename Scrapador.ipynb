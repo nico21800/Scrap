{
 "cells": [
  {
   "cell_type": "code",
   "execution_count": 21,
   "metadata": {},
   "outputs": [],
   "source": [
    "#nbi:hide_in\n",
    "from bs4 import BeautifulSoup\n",
    "from ipywidgets import interact\n",
    "import requests\n",
    "import time"
   ]
  },
  {
   "cell_type": "code",
   "execution_count": 33,
   "metadata": {},
   "outputs": [],
   "source": [
    "#nbi:hide_in\n",
    "def Scraping(URL,Lancer_Programme):\n",
    "    if Lancer_Programme == True:\n",
    "        if URL.startswith('https://genius.com/'):\n",
    "            Page = requests.get(URL)\n",
    "            if Page.ok:\n",
    "                try:\n",
    "                    print(\"Je cherche ...\")\n",
    "                    print(\"\")\n",
    "                    Soup = BeautifulSoup(Page.text, 'lxml')\n",
    "                    Texte = Soup.find('div', {'class' : 'lyrics'}).find('p')\n",
    "                    print(Texte.text)\n",
    "                except:\n",
    "                    i = 0\n",
    "                    while i<20:\n",
    "                        time.sleep(2)\n",
    "                        print(\"Je cherche ...\")\n",
    "                        print(\"\")\n",
    "                        try:\n",
    "                            Soup = BeautifulSoup(Page.text, 'lxml')\n",
    "                            Texte = Soup.find('div', {'class' : 'lyrics'}).find('p')\n",
    "                            i = 20\n",
    "                            print(Texte.text)\n",
    "                        except:\n",
    "                            i += 1\n",
    "                    if i >= 20:\n",
    "                        print(\"Je n'ai pas trouvé ...\")\n",
    "            else:\n",
    "                if URL == \"Entrez l'URL\":\n",
    "                    print()\n",
    "                else:\n",
    "                    print(\"L'URL n'a pas marché\")\n",
    "\n",
    "        else:\n",
    "            print(\"Veuillez entrer un URL du site https://genius.com/ \")\n"
   ]
  },
  {
   "cell_type": "code",
   "execution_count": 34,
   "metadata": {},
   "outputs": [
    {
     "data": {
      "application/vnd.jupyter.widget-view+json": {
       "model_id": "f0e00fbe9f37455e99d179f0a4d23c03",
       "version_major": 2,
       "version_minor": 0
      },
      "text/plain": [
       "interactive(children=(Text(value=\"Entrez l'URL\", description='URL'), Checkbox(value=False, description='Lancer…"
      ]
     },
     "metadata": {},
     "output_type": "display_data"
    }
   ],
   "source": [
    "#nbi:hide_in\n",
    "interact(Scraping,URL = \"Entrez l'URL\", Lancer_Programme = False);"
   ]
  },
  {
   "cell_type": "code",
   "execution_count": null,
   "metadata": {},
   "outputs": [],
   "source": []
  }
 ],
 "metadata": {
  "kernelspec": {
   "display_name": "Python 3",
   "language": "python",
   "name": "python3"
  },
  "language_info": {
   "codemirror_mode": {
    "name": "ipython",
    "version": 3
   },
   "file_extension": ".py",
   "mimetype": "text/x-python",
   "name": "python",
   "nbconvert_exporter": "python",
   "pygments_lexer": "ipython3",
   "version": "3.7.9"
  }
 },
 "nbformat": 4,
 "nbformat_minor": 2
}
